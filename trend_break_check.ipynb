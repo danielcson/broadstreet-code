{
 "cells": [
  {
   "cell_type": "code",
   "execution_count": 13,
   "id": "ba34ef2c",
   "metadata": {},
   "outputs": [],
   "source": [
    "import pandas as pd\n",
    "import numpy as np\n",
    "from collections import OrderedDict\n",
    "import datetime"
   ]
  },
  {
   "cell_type": "code",
   "execution_count": 2,
   "id": "a47eacb1",
   "metadata": {},
   "outputs": [],
   "source": [
    "def trend_break(df, stop_date):\n",
    "    counties = df['Unnamed: 3']\n",
    "    date_lst = [i for i in df.iloc[:,5:] if 'Unnamed' not in i]\n",
    "    tstpos_lst = [i for i in df.iloc[:,5:] if df[i][0][0:6] == 'tstpos']\n",
    "    mort_lst = [i for i in df.iloc[:,5:] if df[i][0][0:4] == 'mort']\n",
    "    dic = {}\n",
    "    for i in range(len(tstpos_lst)):\n",
    "        if i == 0:\n",
    "            continue\n",
    "        date = date_lst[i]  \n",
    "\n",
    "        if date == stop_date:\n",
    "            break\n",
    "        curr_c = df[tstpos_lst[i]]\n",
    "        prev_c = df[tstpos_lst[i-1]]\n",
    "        curr_c = curr_c[1:].fillna(0).replace(',','', regex=True).apply(int)\n",
    "        prev_c = prev_c[1:].fillna(0).replace(',','', regex=True).apply(int)\n",
    "        diff_c = curr_c - prev_c\n",
    "        neg_idx_c = np.where(diff_c < 0)[0]\n",
    "        # neg_idx_c = diff_c.index[diff_c < 0]\n",
    "        tb_counties_c = counties[neg_idx_c]\n",
    "        \n",
    "        \n",
    "        curr_d = df[mort_lst[i]]\n",
    "        prev_d = df[mort_lst[i-1]]\n",
    "        curr_d = curr_d[1:].fillna(0).replace(',','', regex=True).apply(int)\n",
    "        prev_d = prev_d[1:].fillna(0).replace(',','', regex=True).apply(int)\n",
    "        diff_d = curr_d - prev_d\n",
    "        neg_idx_d = np.where(diff_d < 0)[0]\n",
    "        # neg_idx_d = diff_d.index[diff_d < 0]\n",
    "        tb_counties_d = counties[neg_idx_d]\n",
    "\n",
    "        state_cases = tb_counties_c[tb_counties_c.str.contains(',')].str.split(',').apply(lambda x: x[-1])\n",
    "        state_deaths = tb_counties_d[tb_counties_d.str.contains(',')].str.split(',').apply(lambda x: x[-1])\n",
    "\n",
    "        # replace with tb_counties_c, tb_counties_d to get the specific counties\n",
    "        exceptions = ['Georgia','Indiana','Michigan','Connecticut','North Dakota','Virginia','Massachusetts','Maine','Texas','Vermont',\n",
    "            'Tennessee','Pennsylvania','California','Puerto Rico','Minnesota','Washington','Wisconsin','Illinois','Ohio']\n",
    "        out_pre = pd.concat([state_cases, state_deaths]) \n",
    "        out = []\n",
    "        for i in out_pre:\n",
    "            if i.strip() not in exceptions:\n",
    "                out.append(i.strip())\n",
    "        if len(out) > 0:\n",
    "            dic[date] = set(out)\n",
    "     \n",
    "    return dic"
   ]
  },
  {
   "cell_type": "code",
   "execution_count": 3,
   "id": "5dfbc9cb",
   "metadata": {},
   "outputs": [],
   "source": [
    "# insert all sheet urls here\n",
    "url_lst = ['https://docs.google.com/spreadsheets/d/1e_uZrmf7x5fRKpOAjho_jR8GyS1uYXOhLvtM-2iqKPE/edit#gid=1642263273',\n",
    "'https://docs.google.com/spreadsheets/d/1dZHw73L7zHKurw-qe6WTwNUWo1sRtQTYSRgWa86vq48/edit#gid=1642263273',\n",
    "'https://docs.google.com/spreadsheets/d/1z1-WK4PC7BXSIkAgbvNXtyXj8DZ2DmrC0-lVYuDb5H8/edit#gid=1642263273',\n",
    "'https://docs.google.com/spreadsheets/d/1f1zrKYHHD_eGMMEbj_cqho9lxI6mTLcFAyTlLovCup0/edit#gid=1642263273',\n",
    "'https://docs.google.com/spreadsheets/d/1-ldl2hBdKog95GqqrxTcNdmHtimAFg1LrNPVZKTyUUg/edit#gid=311031188',\n",
    "'https://docs.google.com/spreadsheets/d/1vJG2UopyZIfDzLAPQ_jrb_WQ_I0lI3ACW0WbQ9HK-os/edit#gid=311031188'\n",
    "]\n",
    "\n",
    "regions = {'midwest': ['Nebraska', 'Iowa', 'Kentucky', 'Kansas', 'South Dakota'],\n",
    "                    'mountains': ['Arizona', 'Idaho', 'Montana', 'New Mexico', 'Wyoming'],\n",
    "                    'prairie_mrv': ['Oklahoma', 'Louisiana', 'Arkansas', 'Mississippi', 'Missouri'],\n",
    "                    'northeast': ['Delaware', 'Maryland', 'New Hampshire', 'New York', 'Rhode Island', 'Washington', 'New Jersey'],\n",
    "                    'southeast': ['Alabama', 'Florida', 'North Carolina', 'South Carolina', 'West Virginia'],\n",
    "                    'w_pacific' : ['Nevada', 'Utah', 'Oregon', 'Alaska', 'Hawaii']\n",
    "                    }\n",
    "\n",
    "all_regions = []\n",
    "for i in url_lst:\n",
    "    sheet_url = i\n",
    "    url_1 = sheet_url.replace('/edit#gid=', '/export?format=csv&gid=')\n",
    "    df = pd.read_csv(url_1)\n",
    "\n",
    "    # insert date after the day you want to stop checking for trend breaks\n",
    "    all_regions.append(trend_break(df, '10/16/2022'))"
   ]
  },
  {
   "cell_type": "code",
   "execution_count": 4,
   "id": "87b9b39e",
   "metadata": {},
   "outputs": [],
   "source": [
    "midwest = {}\n",
    "mountains = {}\n",
    "prairie_mrv = {}\n",
    "northeast = {}\n",
    "southeast = {}\n",
    "w_pacific = {}\n",
    "\n",
    "for sheet in all_regions:\n",
    "    for date in sheet:\n",
    "        for state in sheet[date]:\n",
    "            for region in regions:\n",
    "                if state in regions[region]:\n",
    "                    curr = eval(region)\n",
    "                    if date not in curr.keys():\n",
    "                        curr[date] = [state]\n",
    "                    else:\n",
    "                        curr[date] += [state]"
   ]
  },
  {
   "cell_type": "code",
   "execution_count": 21,
   "id": "319c469e",
   "metadata": {},
   "outputs": [
    {
     "data": {
      "text/plain": [
       "{'9/13/2022': ['Nebraska', 'South Dakota'],\n",
       " '9/14/2022': ['Iowa'],\n",
       " '9/15/2022': ['Kentucky'],\n",
       " '9/19/2022': ['Kentucky'],\n",
       " '9/21/2022': ['Kansas'],\n",
       " '9/26/2022': ['South Dakota', 'Kentucky'],\n",
       " '9/27/2022': ['South Dakota'],\n",
       " '9/28/2022': ['Iowa'],\n",
       " '9/29/2022': ['South Dakota', 'Iowa', 'Kansas'],\n",
       " '10/5/2022': ['Iowa', 'Kansas'],\n",
       " '10/12/2022': ['Iowa'],\n",
       " '10/14/2022': ['South Dakota']}"
      ]
     },
     "execution_count": 21,
     "metadata": {},
     "output_type": "execute_result"
    }
   ],
   "source": [
    "midwest = dict(OrderedDict(sorted(midwest.items(), key=lambda t: datetime.datetime.strptime(t[0], '%m/%d/%Y').date())))\n",
    "midwest"
   ]
  },
  {
   "cell_type": "code",
   "execution_count": 22,
   "id": "603b1176",
   "metadata": {},
   "outputs": [
    {
     "data": {
      "text/plain": [
       "{'9/13/2022': ['New Mexico'],\n",
       " '9/20/2022': ['New Mexico'],\n",
       " '9/21/2022': ['Wyoming', 'New Mexico'],\n",
       " '9/22/2022': ['Idaho'],\n",
       " '9/23/2022': ['Montana', 'New Mexico'],\n",
       " '9/26/2022': ['New Mexico'],\n",
       " '9/28/2022': ['New Mexico'],\n",
       " '9/30/2022': ['Montana', 'New Mexico'],\n",
       " '10/3/2022': ['New Mexico'],\n",
       " '10/4/2022': ['Wyoming', 'New Mexico'],\n",
       " '10/7/2022': ['New Mexico'],\n",
       " '10/11/2022': ['New Mexico'],\n",
       " '10/12/2022': ['New Mexico', 'Arizona'],\n",
       " '10/14/2022': ['New Mexico']}"
      ]
     },
     "execution_count": 22,
     "metadata": {},
     "output_type": "execute_result"
    }
   ],
   "source": [
    "mountains = dict(OrderedDict(sorted(mountains.items(), key=lambda t: datetime.datetime.strptime(t[0], '%m/%d/%Y').date())))\n",
    "mountains"
   ]
  },
  {
   "cell_type": "code",
   "execution_count": 24,
   "id": "47e76900",
   "metadata": {},
   "outputs": [
    {
     "data": {
      "text/plain": [
       "{'9/15/2022': ['Louisiana'],\n",
       " '9/18/2022': ['Arkansas'],\n",
       " '9/20/2022': ['Arkansas'],\n",
       " '9/26/2022': ['Arkansas', 'Louisiana'],\n",
       " '9/28/2022': ['Arkansas', 'Louisiana'],\n",
       " '9/30/2022': ['Missouri'],\n",
       " '10/4/2022': ['Arkansas'],\n",
       " '10/10/2022': ['Louisiana'],\n",
       " '10/12/2022': ['Arkansas', 'Louisiana'],\n",
       " '10/13/2022': ['Louisiana', 'Oklahoma'],\n",
       " '10/14/2022': ['Arkansas']}"
      ]
     },
     "execution_count": 24,
     "metadata": {},
     "output_type": "execute_result"
    }
   ],
   "source": [
    "prairie_mrv = dict(OrderedDict(sorted(prairie_mrv.items(), key=lambda t: datetime.datetime.strptime(t[0], '%m/%d/%Y').date())))\n",
    "prairie_mrv"
   ]
  },
  {
   "cell_type": "code",
   "execution_count": 20,
   "id": "71e5608f",
   "metadata": {},
   "outputs": [
    {
     "data": {
      "text/plain": [
       "{'9/13/2022': ['New Hampshire'],\n",
       " '9/14/2022': ['New Jersey'],\n",
       " '9/15/2022': ['New Jersey'],\n",
       " '9/16/2022': ['Delaware', 'New Jersey'],\n",
       " '9/17/2022': ['New Jersey'],\n",
       " '9/18/2022': ['New York', 'New Hampshire'],\n",
       " '9/19/2022': ['Rhode Island', 'New Jersey', 'Maryland'],\n",
       " '9/20/2022': ['Maryland', 'New Jersey'],\n",
       " '9/21/2022': ['New Jersey'],\n",
       " '9/22/2022': ['Maryland', 'New Jersey'],\n",
       " '9/23/2022': ['Maryland', 'New York', 'New Jersey', 'New Hampshire'],\n",
       " '9/26/2022': ['Delaware', 'New Jersey', 'Rhode Island'],\n",
       " '9/27/2022': ['New Jersey', 'New Hampshire'],\n",
       " '9/28/2022': ['New Hampshire'],\n",
       " '9/29/2022': ['Maryland', 'New York', 'New Jersey', 'New Hampshire'],\n",
       " '9/30/2022': ['Maryland', 'New Jersey', 'New Hampshire'],\n",
       " '10/2/2022': ['New York'],\n",
       " '10/3/2022': ['Maryland', 'New York', 'New Jersey'],\n",
       " '10/5/2022': ['Maryland', 'New Jersey'],\n",
       " '10/6/2022': ['Maryland', 'New Jersey'],\n",
       " '10/7/2022': ['New Hampshire'],\n",
       " '10/9/2022': ['New Jersey'],\n",
       " '10/10/2022': ['New York', 'New Jersey'],\n",
       " '10/11/2022': ['New Jersey', 'New Hampshire', 'Maryland'],\n",
       " '10/13/2022': ['Maryland', 'New Jersey'],\n",
       " '10/14/2022': ['New Hampshire'],\n",
       " '10/15/2022': ['New Jersey', 'New Hampshire']}"
      ]
     },
     "execution_count": 20,
     "metadata": {},
     "output_type": "execute_result"
    }
   ],
   "source": [
    "northeast = dict(OrderedDict(sorted(northeast.items(), key=lambda t: datetime.datetime.strptime(t[0], '%m/%d/%Y').date())))\n",
    "northeast"
   ]
  },
  {
   "cell_type": "code",
   "execution_count": 19,
   "id": "c0f0a076",
   "metadata": {},
   "outputs": [
    {
     "data": {
      "text/plain": [
       "{'9/15/2022': ['West Virginia', 'North Carolina'],\n",
       " '9/28/2022': ['North Carolina'],\n",
       " '10/12/2022': ['West Virginia'],\n",
       " '10/13/2022': ['West Virginia'],\n",
       " '10/14/2022': ['West Virginia']}"
      ]
     },
     "execution_count": 19,
     "metadata": {},
     "output_type": "execute_result"
    }
   ],
   "source": [
    "southeast = dict(OrderedDict(sorted(southeast.items(), key=lambda t: datetime.datetime.strptime(t[0], '%m/%d/%Y').date())))\n",
    "southeast"
   ]
  },
  {
   "cell_type": "code",
   "execution_count": 18,
   "id": "d0636574",
   "metadata": {},
   "outputs": [
    {
     "data": {
      "text/plain": [
       "{'9/14/2022': ['Alaska'],\n",
       " '9/15/2022': ['Alaska'],\n",
       " '9/17/2022': ['Utah'],\n",
       " '9/21/2022': ['Utah', 'Oregon', 'Nevada'],\n",
       " '9/22/2022': ['Utah'],\n",
       " '9/28/2022': ['Utah', 'Nevada', 'Oregon'],\n",
       " '10/5/2022': ['Utah'],\n",
       " '10/10/2022': ['Nevada'],\n",
       " '10/12/2022': ['Utah', 'Oregon'],\n",
       " '10/14/2022': ['Nevada']}"
      ]
     },
     "execution_count": 18,
     "metadata": {},
     "output_type": "execute_result"
    }
   ],
   "source": [
    "w_pacific = dict(OrderedDict(sorted(w_pacific.items(), key=lambda t: datetime.datetime.strptime(t[0], '%m/%d/%Y').date())))\n",
    "w_pacific"
   ]
  },
  {
   "cell_type": "code",
   "execution_count": null,
   "id": "ed1babd1",
   "metadata": {},
   "outputs": [],
   "source": []
  }
 ],
 "metadata": {
  "kernelspec": {
   "display_name": "Python 3.9.13 64-bit",
   "language": "python",
   "name": "python3"
  },
  "language_info": {
   "codemirror_mode": {
    "name": "ipython",
    "version": 3
   },
   "file_extension": ".py",
   "mimetype": "text/x-python",
   "name": "python",
   "nbconvert_exporter": "python",
   "pygments_lexer": "ipython3",
   "version": "3.9.15"
  },
  "vscode": {
   "interpreter": {
    "hash": "a665b5d41d17b532ea9890333293a1b812fa0b73c9c25c950b3cedf1bebd0438"
   }
  }
 },
 "nbformat": 4,
 "nbformat_minor": 5
}

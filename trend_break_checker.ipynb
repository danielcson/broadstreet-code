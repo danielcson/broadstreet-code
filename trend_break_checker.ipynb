{
 "cells": [
  {
   "cell_type": "code",
   "execution_count": 62,
   "id": "ba34ef2c",
   "metadata": {},
   "outputs": [],
   "source": [
    "import pandas as pd\n",
    "import numpy as np\n",
    "from collections import OrderedDict"
   ]
  },
  {
   "cell_type": "code",
   "execution_count": 45,
   "id": "a47eacb1",
   "metadata": {},
   "outputs": [],
   "source": [
    "def trend_break(df, stop_date):\n",
    "    counties = df['Unnamed: 3']\n",
    "    date_lst = [i for i in df.iloc[:,5:] if 'Unnamed' not in i]\n",
    "    tstpos_lst = [i for i in df.iloc[:,5:] if df[i][0][0:6] == 'tstpos']\n",
    "    mort_lst = [i for i in df.iloc[:,5:] if df[i][0][0:4] == 'mort']\n",
    "    dic = {}\n",
    "    for i in range(len(tstpos_lst)):\n",
    "        if i == 0:\n",
    "            continue\n",
    "        date = date_lst[i]  \n",
    "\n",
    "        if date == stop_date:\n",
    "            break\n",
    "        curr_c = df[tstpos_lst[i]]\n",
    "        prev_c = df[tstpos_lst[i-1]]\n",
    "        curr_c = curr_c[1:].fillna(0).replace(',','', regex=True).apply(int)\n",
    "        prev_c = prev_c[1:].fillna(0).replace(',','', regex=True).apply(int)\n",
    "        diff_c = curr_c - prev_c\n",
    "        neg_idx_c = np.where(diff_c < 0)[0]\n",
    "        # neg_idx_c = diff_c.index[diff_c < 0]\n",
    "        tb_counties_c = counties[neg_idx_c]\n",
    "        \n",
    "        \n",
    "        curr_d = df[mort_lst[i]]\n",
    "        prev_d = df[mort_lst[i-1]]\n",
    "        curr_d = curr_d[1:].fillna(0).replace(',','', regex=True).apply(int)\n",
    "        prev_d = prev_d[1:].fillna(0).replace(',','', regex=True).apply(int)\n",
    "        diff_d = curr_d - prev_d\n",
    "        neg_idx_d = np.where(diff_d < 0)[0]\n",
    "        # neg_idx_d = diff_d.index[diff_d < 0]\n",
    "        tb_counties_d = counties[neg_idx_d]\n",
    "\n",
    "        state_cases = tb_counties_c[tb_counties_c.str.contains(',')].str.split(',').apply(lambda x: x[-1])\n",
    "        state_deaths = tb_counties_d[tb_counties_d.str.contains(',')].str.split(',').apply(lambda x: x[-1])\n",
    "\n",
    "        # replace with tb_counties_c, tb_counties_d to get the specific counties\n",
    "        exceptions = ['Georgia','Indiana','Michigan','Connecticut','North Dakota','Virginia','Massachusetts','Maine','Texas','Vermont',\n",
    "            'Tennessee','Pennsylvania','California','Puerto Rico','Minnesota','Washington','Wisconsin','Illinois','Ohio']\n",
    "        out_pre = pd.concat([state_cases, state_deaths]) \n",
    "        out = []\n",
    "        for i in out_pre:\n",
    "            if i.strip() not in exceptions:\n",
    "                out.append(i.strip())\n",
    "        if len(out) > 0:\n",
    "            dic[date] = set(out)\n",
    "     \n",
    "    return dic"
   ]
  },
  {
   "cell_type": "code",
   "execution_count": 47,
   "id": "5dfbc9cb",
   "metadata": {},
   "outputs": [],
   "source": [
    "# insert all sheet urls here\n",
    "url_lst = ['https://docs.google.com/spreadsheets/d/13gHl6iXtmV2yqTxS9Tn2aVe-L7dacnBA5BBn0jdhcas/edit#gid=1642263273',\n",
    "'https://docs.google.com/spreadsheets/d/1Sp19_x01YL5usg_ghwUpC0GoFOlMKHRH671oDF3gp6M/edit#gid=1642263273',\n",
    "'https://docs.google.com/spreadsheets/d/1KestNxi-AUi_mQu6CVaDHN8a5ud9qE3z4VzHGcHMX64/edit#gid=311031188',\n",
    "'https://docs.google.com/spreadsheets/d/1xLIST_YPe9Amhc2c9ZLYV0gOiS3wtidtRM_KhyJMu_s/edit#gid=1642263273',\n",
    "'https://docs.google.com/spreadsheets/d/1c34elyG4DcqZL9zcnGegrmIRD2OS_yl_LCsXQqCUY08/edit#gid=1642263273',\n",
    "'https://docs.google.com/spreadsheets/d/1hvfXKUiZ0MW3IKup3WONi6gounAPzJLtMXG_5azhCC0/edit#gid=311031188',\n",
    "'https://docs.google.com/spreadsheets/d/1N4o8nDhHVUUcylB4pHcWk9czKOLSEv-hjZcvExS3vSg/edit#gid=1642263273',\n",
    "'https://docs.google.com/spreadsheets/d/1_oSwxT18YmiRhcQTT6jPFRg3LlgQd9SlI9cnSfMgFro/edit#gid=1642263273',\n",
    "'https://docs.google.com/spreadsheets/d/19h_FBsM23Hy2lYyXhzvWZIdPPIuxcNeh4fyAASwpLRM/edit#gid=311031188'\n",
    "]\n",
    "\n",
    "regions = {'midwest': ['Nebraska', 'Iowa', 'Kentucky'],\n",
    "                    'mountains': ['Colorado', 'Idaho', 'Montana', 'New Mexico', 'South Dakota', 'Wyoming'],\n",
    "                    'prairie_mrv': ['Oklahoma', 'Louisiana', 'Kansas', 'Arkansas', 'Mississippi', 'Missouri'],\n",
    "                    'northeast': ['Delaware', 'Maryland', 'New Hampshire', 'New York', 'Rhode Island', 'Washington', 'New Jersey'],\n",
    "                    'southeast': ['Alabama', 'Florida', 'North Carolina', 'South Carolina', 'West Virginia'],\n",
    "                    'w_pacific' : ['Arizona', 'Nevada', 'Utah', 'Oregon', 'Alaska', 'Hawaii']\n",
    "                    }\n",
    "\n",
    "all_regions = []\n",
    "for i in url_lst:\n",
    "    sheet_url = i\n",
    "    url_1 = sheet_url.replace('/edit#gid=', '/export?format=csv&gid=')\n",
    "    df = pd.read_csv(url_1)\n",
    "\n",
    "    # insert date after the day you want to stop checking for trend breaks\n",
    "    all_regions.append(trend_break(df, '5/16/2022'))"
   ]
  },
  {
   "cell_type": "code",
   "execution_count": 51,
   "id": "87b9b39e",
   "metadata": {},
   "outputs": [],
   "source": [
    "midwest = {}\n",
    "mountains = {}\n",
    "prairie_mrv = {}\n",
    "northeast = {}\n",
    "southeast = {}\n",
    "w_pacific = {}\n",
    "\n",
    "for sheet in all_regions:\n",
    "    for date in sheet:\n",
    "        for state in sheet[date]:\n",
    "            for region in regions:\n",
    "                if state in regions[region]:\n",
    "                    curr = eval(region)\n",
    "                    if date not in curr.keys():\n",
    "                        curr[date] = [state]\n",
    "                    else:\n",
    "                        curr[date] += [state]"
   ]
  },
  {
   "cell_type": "code",
   "execution_count": 71,
   "id": "319c469e",
   "metadata": {},
   "outputs": [
    {
     "data": {
      "text/plain": [
       "{'3/30/2022': ['Nebraska', 'Iowa'],\n",
       " '3/31/2022': ['Nebraska'],\n",
       " '4/11/2022': ['Kentucky'],\n",
       " '4/13/2022': ['Iowa'],\n",
       " '4/17/2022': ['Kentucky'],\n",
       " '4/2/2022': ['Nebraska'],\n",
       " '4/20/2022': ['Iowa'],\n",
       " '4/25/2022': ['Nebraska', 'Kentucky'],\n",
       " '4/26/2022': ['Nebraska'],\n",
       " '4/27/2022': ['Iowa'],\n",
       " '4/29/2022': ['Kentucky'],\n",
       " '4/4/2022': ['Kentucky'],\n",
       " '4/5/2022': ['Nebraska'],\n",
       " '4/6/2022': ['Iowa'],\n",
       " '4/8/2022': ['Nebraska'],\n",
       " '5/10/2022': ['Nebraska'],\n",
       " '5/11/2022': ['Nebraska', 'Kentucky'],\n",
       " '5/12/2022': ['Nebraska'],\n",
       " '5/2/2022': ['Nebraska', 'Kentucky'],\n",
       " '5/3/2022': ['Nebraska'],\n",
       " '5/4/2022': ['Iowa']}"
      ]
     },
     "execution_count": 71,
     "metadata": {},
     "output_type": "execute_result"
    }
   ],
   "source": [
    "midwest = dict(OrderedDict(sorted(midwest.items(), key=lambda t: t[0])))\n",
    "midwest"
   ]
  },
  {
   "cell_type": "code",
   "execution_count": 70,
   "id": "603b1176",
   "metadata": {},
   "outputs": [
    {
     "data": {
      "text/plain": [
       "{'3/29/2022': ['Colorado', 'Wyoming', 'Idaho'],\n",
       " '3/30/2022': ['Montana', 'Colorado', 'South Dakota', 'Idaho'],\n",
       " '3/31/2022': ['Colorado', 'Idaho'],\n",
       " '4/1/2022': ['Montana', 'Colorado', 'Wyoming', 'Idaho'],\n",
       " '4/11/2022': ['Montana', 'Colorado', 'Idaho'],\n",
       " '4/12/2022': ['New Mexico', 'Montana', 'Wyoming', 'Idaho'],\n",
       " '4/13/2022': ['New Mexico', 'Montana', 'South Dakota'],\n",
       " '4/14/2022': ['New Mexico', 'Montana', 'Colorado', 'Idaho'],\n",
       " '4/15/2022': ['Montana', 'Colorado', 'Idaho'],\n",
       " '4/19/2022': ['New Mexico', 'Montana', 'Wyoming'],\n",
       " '4/20/2022': ['Montana', 'South Dakota', 'Colorado', 'Idaho'],\n",
       " '4/21/2022': ['Montana'],\n",
       " '4/22/2022': ['Montana', 'Wyoming', 'Colorado', 'Idaho'],\n",
       " '4/25/2022': ['New Mexico', 'Montana', 'Colorado', 'Idaho'],\n",
       " '4/26/2022': ['Colorado', 'Wyoming'],\n",
       " '4/27/2022': ['Montana', 'Colorado', 'Idaho'],\n",
       " '4/28/2022': ['New Mexico', 'Montana'],\n",
       " '4/29/2022': ['Montana', 'Idaho'],\n",
       " '4/4/2022': ['Colorado'],\n",
       " '4/5/2022': ['Montana', 'Colorado'],\n",
       " '4/6/2022': ['Colorado', 'South Dakota', 'Idaho'],\n",
       " '4/7/2022': ['New Mexico', 'Montana', 'Colorado', 'Idaho'],\n",
       " '4/8/2022': ['New Mexico', 'Montana', 'Colorado', 'Wyoming', 'Idaho'],\n",
       " '5/10/2022': ['Colorado'],\n",
       " '5/11/2022': ['New Mexico', 'Colorado', 'South Dakota', 'Idaho'],\n",
       " '5/12/2022': ['Colorado'],\n",
       " '5/13/2022': ['New Mexico'],\n",
       " '5/2/2022': ['New Mexico', 'Colorado', 'Idaho'],\n",
       " '5/3/2022': ['New Mexico', 'Montana', 'Colorado', 'Wyoming'],\n",
       " '5/4/2022': ['Montana'],\n",
       " '5/5/2022': ['Montana', 'Colorado', 'Idaho'],\n",
       " '5/6/2022': ['New Mexico', 'Montana', 'Idaho'],\n",
       " '5/7/2022': ['South Dakota']}"
      ]
     },
     "execution_count": 70,
     "metadata": {},
     "output_type": "execute_result"
    }
   ],
   "source": [
    "mountains = dict(OrderedDict(sorted(mountains.items(), key=lambda t: t[0])))\n",
    "mountains"
   ]
  },
  {
   "cell_type": "code",
   "execution_count": 55,
   "id": "47e76900",
   "metadata": {},
   "outputs": [
    {
     "data": {
      "text/plain": [
       "{'3/29/2022': ['Missouri', 'Arkansas'],\n",
       " '3/30/2022': ['Louisiana'],\n",
       " '3/31/2022': ['Arkansas'],\n",
       " '4/1/2022': ['Kansas', 'Missouri'],\n",
       " '4/2/2022': ['Missouri'],\n",
       " '4/4/2022': ['Missouri'],\n",
       " '4/5/2022': ['Kansas'],\n",
       " '4/6/2022': ['Louisiana'],\n",
       " '4/8/2022': ['Kansas', 'Missouri'],\n",
       " '4/9/2022': ['Arkansas', 'Missouri'],\n",
       " '4/10/2022': ['Arkansas'],\n",
       " '4/12/2022': ['Louisiana'],\n",
       " '4/15/2022': ['Kansas'],\n",
       " '4/16/2022': ['Arkansas'],\n",
       " '4/19/2022': ['Arkansas'],\n",
       " '4/21/2022': ['Louisiana', 'Oklahoma', 'Arkansas'],\n",
       " '4/22/2022': ['Kansas', 'Missouri', 'Arkansas'],\n",
       " '4/23/2022': ['Missouri'],\n",
       " '4/24/2022': ['Arkansas'],\n",
       " '4/25/2022': ['Arkansas', 'Missouri'],\n",
       " '4/26/2022': ['Arkansas'],\n",
       " '4/27/2022': ['Louisiana'],\n",
       " '4/28/2022': ['Louisiana', 'Oklahoma', 'Missouri'],\n",
       " '4/29/2022': ['Oklahoma', 'Kansas'],\n",
       " '4/30/2022': ['Arkansas'],\n",
       " '5/4/2022': ['Louisiana'],\n",
       " '5/5/2022': ['Louisiana', 'Oklahoma', 'Arkansas'],\n",
       " '5/6/2022': ['Oklahoma'],\n",
       " '5/7/2022': ['Arkansas'],\n",
       " '5/10/2022': ['Louisiana', 'Arkansas'],\n",
       " '5/11/2022': ['Arkansas', 'Missouri'],\n",
       " '5/12/2022': ['Arkansas']}"
      ]
     },
     "execution_count": 55,
     "metadata": {},
     "output_type": "execute_result"
    }
   ],
   "source": [
    "prairie_mrv"
   ]
  },
  {
   "cell_type": "code",
   "execution_count": 65,
   "id": "71e5608f",
   "metadata": {},
   "outputs": [
    {
     "data": {
      "text/plain": [
       "{'3/29/2022': ['Maryland'],\n",
       " '3/30/2022': ['New York', 'Delaware', 'Rhode Island'],\n",
       " '3/31/2022': ['New York', 'New Hampshire', 'Maryland'],\n",
       " '4/1/2022': ['New York', 'New Jersey', 'Maryland'],\n",
       " '4/10/2022': ['New Jersey'],\n",
       " '4/11/2022': ['New Hampshire'],\n",
       " '4/12/2022': ['New Hampshire', 'New Jersey'],\n",
       " '4/13/2022': ['Rhode Island', 'Maryland', 'New Jersey'],\n",
       " '4/14/2022': ['Maryland', 'New Hampshire'],\n",
       " '4/15/2022': ['New Jersey', 'Maryland'],\n",
       " '4/16/2022': ['New Jersey'],\n",
       " '4/17/2022': ['Delaware', 'New Jersey'],\n",
       " '4/19/2022': ['New Hampshire', 'New Jersey'],\n",
       " '4/2/2022': ['New York', 'New Jersey'],\n",
       " '4/20/2022': ['Rhode Island',\n",
       "  'New York',\n",
       "  'New Hampshire',\n",
       "  'Maryland',\n",
       "  'New Jersey'],\n",
       " '4/21/2022': ['New York', 'Delaware'],\n",
       " '4/22/2022': ['Maryland'],\n",
       " '4/23/2022': ['New York',\n",
       "  'New Jersey',\n",
       "  'New Hampshire',\n",
       "  'Maryland',\n",
       "  'Rhode Island'],\n",
       " '4/25/2022': ['New York', 'Maryland', 'New Jersey'],\n",
       " '4/26/2022': ['New York'],\n",
       " '4/27/2022': ['New York', 'Maryland', 'Rhode Island'],\n",
       " '4/28/2022': ['New Hampshire'],\n",
       " '4/29/2022': ['New York', 'New Hampshire', 'Delaware', 'New Jersey'],\n",
       " '4/3/2022': ['New York', 'Delaware', 'New Jersey'],\n",
       " '4/30/2022': ['New York', 'New Jersey'],\n",
       " '4/4/2022': ['New Jersey'],\n",
       " '4/5/2022': ['New York', 'New Hampshire'],\n",
       " '4/6/2022': ['Maryland', 'Rhode Island'],\n",
       " '4/7/2022': ['New York', 'New Hampshire', 'Delaware', 'New Jersey'],\n",
       " '4/8/2022': ['Delaware', 'Maryland'],\n",
       " '4/9/2022': ['New Jersey', 'Maryland'],\n",
       " '5/1/2022': ['New Jersey'],\n",
       " '5/10/2022': ['New Hampshire', 'Maryland'],\n",
       " '5/13/2022': ['New York',\n",
       "  'New Hampshire',\n",
       "  'Delaware',\n",
       "  'Maryland',\n",
       "  'New Jersey'],\n",
       " '5/14/2022': ['New York', 'New Jersey'],\n",
       " '5/15/2022': ['New Jersey'],\n",
       " '5/2/2022': ['New Jersey'],\n",
       " '5/3/2022': ['New Hampshire', 'New Jersey'],\n",
       " '5/4/2022': ['New Jersey', 'New Hampshire', 'Maryland', 'Rhode Island'],\n",
       " '5/5/2022': ['New York', 'New Jersey', 'Maryland'],\n",
       " '5/6/2022': ['Delaware', 'New Hampshire', 'New Jersey', 'Maryland'],\n",
       " '5/7/2022': ['New Jersey'],\n",
       " '5/8/2022': ['Rhode Island', 'New Hampshire', 'Maryland']}"
      ]
     },
     "execution_count": 65,
     "metadata": {},
     "output_type": "execute_result"
    }
   ],
   "source": [
    "northeast = dict(OrderedDict(sorted(northeast.items(), key=lambda t: t[0])))\n",
    "northeast"
   ]
  },
  {
   "cell_type": "code",
   "execution_count": 66,
   "id": "c0f0a076",
   "metadata": {},
   "outputs": [
    {
     "data": {
      "text/plain": [
       "{'3/29/2022': ['West Virginia'],\n",
       " '3/30/2022': ['Alabama'],\n",
       " '3/31/2022': ['West Virginia', 'Alabama'],\n",
       " '4/11/2022': ['West Virginia'],\n",
       " '4/12/2022': ['Alabama', 'South Carolina'],\n",
       " '4/13/2022': ['North Carolina', 'West Virginia', 'Alabama'],\n",
       " '4/14/2022': ['Alabama', 'West Virginia'],\n",
       " '4/15/2022': ['Alabama'],\n",
       " '4/19/2022': ['Alabama'],\n",
       " '4/20/2022': ['North Carolina', 'Alabama'],\n",
       " '4/21/2022': ['Alabama', 'West Virginia'],\n",
       " '4/25/2022': ['Alabama'],\n",
       " '4/27/2022': ['North Carolina', 'Alabama'],\n",
       " '4/28/2022': ['Alabama', 'West Virginia'],\n",
       " '4/29/2022': ['Alabama'],\n",
       " '4/4/2022': ['North Carolina', 'West Virginia', 'Alabama'],\n",
       " '4/5/2022': ['North Carolina', 'West Virginia', 'South Carolina'],\n",
       " '4/6/2022': ['North Carolina', 'West Virginia', 'Alabama'],\n",
       " '4/7/2022': ['Alabama'],\n",
       " '4/8/2022': ['Alabama'],\n",
       " '5/10/2022': ['South Carolina'],\n",
       " '5/11/2022': ['Alabama', 'North Carolina'],\n",
       " '5/12/2022': ['Alabama'],\n",
       " '5/13/2022': ['Alabama'],\n",
       " '5/2/2022': ['West Virginia'],\n",
       " '5/3/2022': ['West Virginia'],\n",
       " '5/4/2022': ['North Carolina']}"
      ]
     },
     "execution_count": 66,
     "metadata": {},
     "output_type": "execute_result"
    }
   ],
   "source": [
    "southeast = dict(OrderedDict(sorted(southeast.items(), key=lambda t: t[0])))\n",
    "southeast"
   ]
  },
  {
   "cell_type": "code",
   "execution_count": 67,
   "id": "d0636574",
   "metadata": {},
   "outputs": [
    {
     "data": {
      "text/plain": [
       "{'3/29/2022': ['Utah', 'Oregon'],\n",
       " '3/30/2022': ['Hawaii', 'Arizona', 'Oregon'],\n",
       " '3/31/2022': ['Oregon'],\n",
       " '4/1/2022': ['Nevada', 'Oregon'],\n",
       " '4/11/2022': ['Oregon'],\n",
       " '4/12/2022': ['Oregon'],\n",
       " '4/13/2022': ['Arizona', 'Nevada'],\n",
       " '4/15/2022': ['Utah'],\n",
       " '4/16/2022': ['Oregon'],\n",
       " '4/19/2022': ['Oregon'],\n",
       " '4/2/2022': ['Nevada'],\n",
       " '4/20/2022': ['Alaska', 'Hawaii', 'Nevada', 'Utah', 'Arizona'],\n",
       " '4/21/2022': ['Nevada'],\n",
       " '4/22/2022': ['Utah', 'Oregon'],\n",
       " '4/24/2022': ['Hawaii'],\n",
       " '4/27/2022': ['Nevada', 'Arizona', 'Oregon'],\n",
       " '4/29/2022': ['Alaska'],\n",
       " '4/4/2022': ['Nevada'],\n",
       " '4/6/2022': ['Nevada', 'Oregon'],\n",
       " '4/7/2022': ['Utah', 'Oregon'],\n",
       " '4/9/2022': ['Nevada'],\n",
       " '5/11/2022': ['Nevada'],\n",
       " '5/12/2022': ['Utah'],\n",
       " '5/15/2022': ['Utah'],\n",
       " '5/2/2022': ['Nevada'],\n",
       " '5/3/2022': ['Utah', 'Nevada'],\n",
       " '5/4/2022': ['Alaska', 'Nevada', 'Utah'],\n",
       " '5/5/2022': ['Oregon']}"
      ]
     },
     "execution_count": 67,
     "metadata": {},
     "output_type": "execute_result"
    }
   ],
   "source": [
    "w_pacific = dict(OrderedDict(sorted(w_pacific.items(), key=lambda t: t[0])))\n",
    "w_pacific"
   ]
  },
  {
   "cell_type": "code",
   "execution_count": null,
   "id": "095d46f2",
   "metadata": {},
   "outputs": [],
   "source": []
  }
 ],
 "metadata": {
  "interpreter": {
   "hash": "b0fa6594d8f4cbf19f97940f81e996739fb7646882a419484c72d19e05852a7e"
  },
  "kernelspec": {
   "display_name": "Python 3.9.10 64-bit",
   "language": "python",
   "name": "python3"
  },
  "language_info": {
   "codemirror_mode": {
    "name": "ipython",
    "version": 3
   },
   "file_extension": ".py",
   "mimetype": "text/x-python",
   "name": "python",
   "nbconvert_exporter": "python",
   "pygments_lexer": "ipython3",
   "version": "3.9.10"
  }
 },
 "nbformat": 4,
 "nbformat_minor": 5
}
